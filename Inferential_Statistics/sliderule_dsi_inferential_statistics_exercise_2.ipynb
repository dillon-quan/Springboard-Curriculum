{
 "cells": [
  {
   "cell_type": "markdown",
   "metadata": {},
   "source": [
    "# Examining Racial Discrimination in the US Job Market\n",
    "\n",
    "### Background\n",
    "Racial discrimination continues to be pervasive in cultures throughout the world. Researchers examined the level of racial discrimination in the United States labor market by randomly assigning identical résumés to black-sounding or white-sounding names and observing the impact on requests for interviews from employers.\n",
    "\n",
    "### Data\n",
    "In the dataset provided, each row represents a resume. The 'race' column has two values, 'b' and 'w', indicating black-sounding and white-sounding. The column 'call' has two values, 1 and 0, indicating whether the resume received a call from employers or not.\n",
    "\n",
    "Note that the 'b' and 'w' values in race are assigned randomly to the resumes when presented to the employer."
   ]
  },
  {
   "cell_type": "markdown",
   "metadata": {},
   "source": [
    "### Exercises\n",
    "You will perform a statistical analysis to establish whether race has a significant impact on the rate of callbacks for resumes.\n",
    "\n",
    "Answer the following questions **in this notebook below and submit to your Github account**. \n",
    "\n",
    "   1. What test is appropriate for this problem? Does CLT apply?\n",
    "   2. What are the null and alternate hypotheses?\n",
    "   3. Compute margin of error, confidence interval, and p-value.\n",
    "   4. Write a story describing the statistical significance in the context or the original problem.\n",
    "   5. Does your analysis mean that race/name is the most important factor in callback success? Why or why not? If not, how would you amend your analysis?\n",
    "\n",
    "You can include written notes in notebook cells using Markdown: \n",
    "   - In the control panel at the top, choose Cell > Cell Type > Markdown\n",
    "   - Markdown syntax: http://nestacms.com/docs/creating-content/markdown-cheat-sheet\n",
    "\n",
    "\n",
    "#### Resources\n",
    "+ Experiment information and data source: http://www.povertyactionlab.org/evaluation/discrimination-job-market-united-states\n",
    "+ Scipy statistical methods: http://docs.scipy.org/doc/scipy/reference/stats.html \n",
    "+ Markdown syntax: http://nestacms.com/docs/creating-content/markdown-cheat-sheet\n",
    "****"
   ]
  },
  {
   "cell_type": "code",
   "execution_count": 31,
   "metadata": {
    "collapsed": true
   },
   "outputs": [],
   "source": [
    "import pandas as pd\n",
    "import numpy as np\n",
    "from scipy import stats\n",
    "import math"
   ]
  },
  {
   "cell_type": "code",
   "execution_count": 2,
   "metadata": {},
   "outputs": [],
   "source": [
    "data = pd.io.stata.read_stata('data/us_job_market_discrimination.dta')"
   ]
  },
  {
   "cell_type": "markdown",
   "metadata": {},
   "source": [
    "# Question 1.\n",
    "\n",
    "## What test is appropriate here? Does the CLT apply?\n",
    "\n",
    "A hypothesis testing on the difference of means for this data is applicable. A two sample z test can be used here since the sample size n is large and the t score and the z score will be approximately equal. In addition, if the sample size n is large, the standard deviation of the population can be approximated with the sample's standard deviation.\n",
    "\n",
    "## Does the CLT apply?\n",
    "\n",
    "The CLT does apply here since the normal condition is met as long as the sample size $n\\geq 30$."
   ]
  },
  {
   "cell_type": "markdown",
   "metadata": {},
   "source": []
  },
  {
   "cell_type": "markdown",
   "metadata": {},
   "source": [
    "# Question 2.\n",
    "\n",
    "## What are the null and alternative hypotheses?\n",
    "\n",
    "The null and alternative hypotheses are stated as follows:\n",
    "\n",
    "$H_{o}: \\mu_{w} - \\mu_{b} = 0$\n",
    "\n",
    "$H_{a}: \\mu_{w} - \\mu_{b} \\neq 0$\n",
    "\n",
    "where the $\\mu_{1}$ and $\\mu_{2}$ are the black and white population true mean callbacks for jobs. To begin the hypothesis testing, the significance level needs to be preset. The significance level will be set to $\\alpha = .05$. The dataset will be seperated into two groups, one white sounding names and the other black sounding names."
   ]
  },
  {
   "cell_type": "code",
   "execution_count": 38,
   "metadata": {},
   "outputs": [
    {
     "data": {
      "text/plain": [
       "2435.0"
      ]
     },
     "execution_count": 38,
     "metadata": {},
     "output_type": "execute_result"
    }
   ],
   "source": [
    "df_w = df[df.race == 'w']\n",
    "df_b = df[df.race == 'b']\n",
    "data.shape"
   ]
  },
  {
   "cell_type": "code",
   "execution_count": 34,
   "metadata": {},
   "outputs": [
    {
     "data": {
      "text/plain": [
       "(0.09650924056768417,\n",
       " 0.29528486728668213,\n",
       " 0.0644763857126236,\n",
       " 0.24559901654720306)"
      ]
     },
     "execution_count": 34,
     "metadata": {},
     "output_type": "execute_result"
    }
   ],
   "source": [
    "w_mean = np.mean(df_w.call)\n",
    "w_std = np.std(df_w.call)\n",
    "b_mean = np.mean(df_b.call)\n",
    "b_std = np.std(df_b.call)\n",
    "w_mean, w_std, b_mean, b_std"
   ]
  },
  {
   "cell_type": "code",
   "execution_count": 35,
   "metadata": {
    "scrolled": true
   },
   "outputs": [
    {
     "data": {
      "text/plain": [
       "0.03203285485506058"
      ]
     },
     "execution_count": 35,
     "metadata": {},
     "output_type": "execute_result"
    }
   ],
   "source": [
    "diff_mean = w_mean - b_mean\n",
    "diff_mean"
   ]
  },
  {
   "cell_type": "code",
   "execution_count": 27,
   "metadata": {},
   "outputs": [
    {
     "data": {
      "text/plain": [
       "(2435, 2435)"
      ]
     },
     "execution_count": 27,
     "metadata": {},
     "output_type": "execute_result"
    }
   ],
   "source": [
    "n_w = len(df_w)\n",
    "n_b = len(df_b)\n",
    "n_w, n_b"
   ]
  },
  {
   "cell_type": "markdown",
   "metadata": {},
   "source": []
  },
  {
   "cell_type": "markdown",
   "metadata": {},
   "source": [
    "# Question 3.\n",
    "\n",
    "## Compute margin of error, confidence interval, and p-value.\n",
    "\n",
    "Below shows the formula used to calculate the z score where $s_{1}$ and $s_{2}$ are the samples' standard deviations from each group.\n",
    "\n",
    "$S_{w} = \\frac{s_{w}^2}{n_{w}}$\n",
    "\n",
    "$S_{b} = \\frac{s_{b}^2}{n_{b}}$\n",
    "\n",
    "$Z score: \\frac{\\bar x_{w} - \\bar x_{b} - \\mu_{w} - \\mu_{b}}{\\sqrt{S_{w} + S_{b}}} $\n",
    "\n",
    "Z score = 4.115583422082968\n",
    "\n",
    "p value = 3.8620128019806188e-05\n",
    "\n",
    "As seen below, the p value determined is 3.8620128019806188e-05, which means that the probability that difference in mean between the two samples here is so unlikely to have occured given the null hypothesis. Since the p value is less than the significance level, the null hypothesis is rejected and the alternative hypothesis is accepted.\n",
    "\n",
    "Confidence Interval = [0.016777570469610682, 0.047288139240510473]\n",
    "\n",
    "Margin of Error = 0.015255284385449893"
   ]
  },
  {
   "cell_type": "code",
   "execution_count": 48,
   "metadata": {},
   "outputs": [
    {
     "data": {
      "text/plain": [
       "(4.115583422082968, 3.8620128019806188e-05)"
      ]
     },
     "execution_count": 48,
     "metadata": {},
     "output_type": "execute_result"
    }
   ],
   "source": [
    "s_w = w_std**2/n_w\n",
    "s_b = b_std**2/n_b\n",
    "z = diff_mean/math.sqrt(s_w + s_b)\n",
    "p_value = 2*(1 - stats.norm.cdf(z))\n",
    "z, p_value"
   ]
  },
  {
   "cell_type": "code",
   "execution_count": 47,
   "metadata": {},
   "outputs": [
    {
     "data": {
      "text/plain": [
       "Ttest_indResult(statistic=4.1147052908617514, pvalue=3.9408021031288859e-05)"
      ]
     },
     "execution_count": 47,
     "metadata": {},
     "output_type": "execute_result"
    }
   ],
   "source": [
    "#This method came from the scipy library and was used to help backup my initial calculations\n",
    "stats.ttest_ind(df_w.call,df_b.call)"
   ]
  },
  {
   "cell_type": "code",
   "execution_count": 57,
   "metadata": {},
   "outputs": [
    {
     "data": {
      "text/plain": [
       "(0.016777570469610682, 0.047288139240510473)"
      ]
     },
     "execution_count": 57,
     "metadata": {},
     "output_type": "execute_result"
    }
   ],
   "source": [
    "# 95% Confidence Interval\n",
    "diff_mean - 1.96*np.sqrt(s_w + s_b), diff_mean + 1.96*np.sqrt(s_w + s_b)"
   ]
  },
  {
   "cell_type": "code",
   "execution_count": 54,
   "metadata": {},
   "outputs": [
    {
     "data": {
      "text/plain": [
       "0.015255284385449893"
      ]
     },
     "execution_count": 54,
     "metadata": {},
     "output_type": "execute_result"
    }
   ],
   "source": [
    "margin_of_error = 1.96*np.sqrt(s_w + s_b)\n",
    "margin_of_error"
   ]
  },
  {
   "cell_type": "markdown",
   "metadata": {},
   "source": []
  },
  {
   "cell_type": "markdown",
   "metadata": {},
   "source": [
    "# Question 4 and 5.\n",
    "\n",
    "## Write a story describing the statistical significance in the context or the original problem. Does your analysis mean that race/name is the most important factor in callback success? Why or why not? If not, how would you amend your analysis?\n",
    "\n",
    "As a result, after performing the hypothesis testing, where the null hypothesis was that job seekers got callbacks regardless of whether they have black sounding names or white sounding names, the null hypothesis was rejected due to the fact that the p value computed was less than the significance level. This means that on average there is a 3.2%  disparity between job seekers who have black sounding name than those who have white sounding names. Although this may be the case, additional features will need to be included to determine if callbacks were primarily due to race. The dataset also contained education, years of experience, and many more. Without looking into other qualities, it is hard to definitive come to a conclusion."
   ]
  },
  {
   "cell_type": "code",
   "execution_count": null,
   "metadata": {
    "collapsed": true
   },
   "outputs": [],
   "source": []
  }
 ],
 "metadata": {
  "kernelspec": {
   "display_name": "Python 3",
   "language": "python",
   "name": "python3"
  },
  "language_info": {
   "codemirror_mode": {
    "name": "ipython",
    "version": 3
   },
   "file_extension": ".py",
   "mimetype": "text/x-python",
   "name": "python",
   "nbconvert_exporter": "python",
   "pygments_lexer": "ipython3",
   "version": "3.6.1"
  }
 },
 "nbformat": 4,
 "nbformat_minor": 1
}
