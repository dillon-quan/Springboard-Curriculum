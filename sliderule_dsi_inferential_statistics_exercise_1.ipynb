{
 "cells": [
  {
   "cell_type": "markdown",
   "metadata": {},
   "source": [
    "# What is the True Normal Human Body Temperature? \n",
    "\n",
    "#### Background\n",
    "\n",
    "The mean normal body temperature was held to be 37$^{\\circ}$C or 98.6$^{\\circ}$F for more than 120 years since it was first conceptualized and reported by Carl Wunderlich in a famous 1868 book. But, is this value statistically correct?"
   ]
  },
  {
   "cell_type": "markdown",
   "metadata": {},
   "source": [
    "<h3>Exercises</h3>\n",
    "\n",
    "<p>In this exercise, you will analyze a dataset of human body temperatures and employ the concepts of hypothesis testing, confidence intervals, and statistical significance.</p>\n",
    "\n",
    "<p>Answer the following questions <b>in this notebook below and submit to your Github account</b>.</p> \n",
    "\n",
    "<ol>\n",
    "<li>  Is the distribution of body temperatures normal? \n",
    "    <ul>\n",
    "    <li> Although this is not a requirement for CLT to hold (read CLT carefully), it gives us some peace of mind that the population may also be normally distributed if we assume that this sample is representative of the population.\n",
    "    </ul>\n",
    "<li>  Is the sample size large? Are the observations independent?\n",
    "    <ul>\n",
    "    <li> Remember that this is a condition for the CLT, and hence the statistical tests we are using, to apply.\n",
    "    </ul>\n",
    "<li>  Is the true population mean really 98.6 degrees F?\n",
    "    <ul>\n",
    "    <li> Would you use a one-sample or two-sample test? Why?\n",
    "    <li> In this situation, is it appropriate to use the $t$ or $z$ statistic? \n",
    "    <li> Now try using the other test. How is the result be different? Why?\n",
    "    </ul>\n",
    "<li>  Draw a small sample of size 10 from the data and repeat both tests. \n",
    "    <ul>\n",
    "    <li> Which one is the correct one to use? \n",
    "    <li> What do you notice? What does this tell you about the difference in application of the $t$ and $z$ statistic?\n",
    "    </ul>\n",
    "<li>  At what temperature should we consider someone's temperature to be \"abnormal\"?\n",
    "    <ul>\n",
    "    <li> Start by computing the margin of error and confidence interval.\n",
    "    </ul>\n",
    "<li>  Is there a significant difference between males and females in normal temperature?\n",
    "    <ul>\n",
    "    <li> What test did you use and why?\n",
    "    <li> Write a story with your conclusion in the context of the original problem.\n",
    "    </ul>\n",
    "</ol>\n",
    "\n",
    "You can include written notes in notebook cells using Markdown: \n",
    "   - In the control panel at the top, choose Cell > Cell Type > Markdown\n",
    "   - Markdown syntax: http://nestacms.com/docs/creating-content/markdown-cheat-sheet\n",
    "\n",
    "#### Resources\n",
    "\n",
    "+ Information and data sources: http://www.amstat.org/publications/jse/datasets/normtemp.txt, http://www.amstat.org/publications/jse/jse_data_archive.htm\n",
    "+ Markdown syntax: http://nestacms.com/docs/creating-content/markdown-cheat-sheet\n",
    "\n",
    "****"
   ]
  },
  {
   "cell_type": "code",
   "execution_count": 138,
   "metadata": {
    "collapsed": true
   },
   "outputs": [],
   "source": [
    "import pandas as pd\n",
    "import matplotlib.pyplot as plt\n",
    "import seaborn as sns\n",
    "import numpy as np\n",
    "import scipy.stats as st\n",
    "import math\n",
    "\n",
    "df = pd.read_csv('data/human_body_temperature.csv')"
   ]
  },
  {
   "cell_type": "code",
   "execution_count": 139,
   "metadata": {
    "scrolled": true
   },
   "outputs": [
    {
     "data": {
      "text/html": [
       "<div>\n",
       "<style>\n",
       "    .dataframe thead tr:only-child th {\n",
       "        text-align: right;\n",
       "    }\n",
       "\n",
       "    .dataframe thead th {\n",
       "        text-align: left;\n",
       "    }\n",
       "\n",
       "    .dataframe tbody tr th {\n",
       "        vertical-align: top;\n",
       "    }\n",
       "</style>\n",
       "<table border=\"1\" class=\"dataframe\">\n",
       "  <thead>\n",
       "    <tr style=\"text-align: right;\">\n",
       "      <th></th>\n",
       "      <th>temperature</th>\n",
       "      <th>gender</th>\n",
       "      <th>heart_rate</th>\n",
       "    </tr>\n",
       "  </thead>\n",
       "  <tbody>\n",
       "    <tr>\n",
       "      <th>0</th>\n",
       "      <td>99.3</td>\n",
       "      <td>F</td>\n",
       "      <td>68.0</td>\n",
       "    </tr>\n",
       "    <tr>\n",
       "      <th>1</th>\n",
       "      <td>98.4</td>\n",
       "      <td>F</td>\n",
       "      <td>81.0</td>\n",
       "    </tr>\n",
       "    <tr>\n",
       "      <th>2</th>\n",
       "      <td>97.8</td>\n",
       "      <td>M</td>\n",
       "      <td>73.0</td>\n",
       "    </tr>\n",
       "    <tr>\n",
       "      <th>3</th>\n",
       "      <td>99.2</td>\n",
       "      <td>F</td>\n",
       "      <td>66.0</td>\n",
       "    </tr>\n",
       "    <tr>\n",
       "      <th>4</th>\n",
       "      <td>98.0</td>\n",
       "      <td>F</td>\n",
       "      <td>73.0</td>\n",
       "    </tr>\n",
       "  </tbody>\n",
       "</table>\n",
       "</div>"
      ],
      "text/plain": [
       "   temperature gender  heart_rate\n",
       "0         99.3      F        68.0\n",
       "1         98.4      F        81.0\n",
       "2         97.8      M        73.0\n",
       "3         99.2      F        66.0\n",
       "4         98.0      F        73.0"
      ]
     },
     "execution_count": 139,
     "metadata": {},
     "output_type": "execute_result"
    }
   ],
   "source": [
    "df.head()"
   ]
  },
  {
   "cell_type": "code",
   "execution_count": 140,
   "metadata": {},
   "outputs": [
    {
     "data": {
      "text/html": [
       "<div>\n",
       "<style>\n",
       "    .dataframe thead tr:only-child th {\n",
       "        text-align: right;\n",
       "    }\n",
       "\n",
       "    .dataframe thead th {\n",
       "        text-align: left;\n",
       "    }\n",
       "\n",
       "    .dataframe tbody tr th {\n",
       "        vertical-align: top;\n",
       "    }\n",
       "</style>\n",
       "<table border=\"1\" class=\"dataframe\">\n",
       "  <thead>\n",
       "    <tr style=\"text-align: right;\">\n",
       "      <th></th>\n",
       "      <th>temperature</th>\n",
       "      <th>heart_rate</th>\n",
       "    </tr>\n",
       "  </thead>\n",
       "  <tbody>\n",
       "    <tr>\n",
       "      <th>count</th>\n",
       "      <td>130.000000</td>\n",
       "      <td>130.000000</td>\n",
       "    </tr>\n",
       "    <tr>\n",
       "      <th>mean</th>\n",
       "      <td>98.249231</td>\n",
       "      <td>73.761538</td>\n",
       "    </tr>\n",
       "    <tr>\n",
       "      <th>std</th>\n",
       "      <td>0.733183</td>\n",
       "      <td>7.062077</td>\n",
       "    </tr>\n",
       "    <tr>\n",
       "      <th>min</th>\n",
       "      <td>96.300000</td>\n",
       "      <td>57.000000</td>\n",
       "    </tr>\n",
       "    <tr>\n",
       "      <th>25%</th>\n",
       "      <td>97.800000</td>\n",
       "      <td>69.000000</td>\n",
       "    </tr>\n",
       "    <tr>\n",
       "      <th>50%</th>\n",
       "      <td>98.300000</td>\n",
       "      <td>74.000000</td>\n",
       "    </tr>\n",
       "    <tr>\n",
       "      <th>75%</th>\n",
       "      <td>98.700000</td>\n",
       "      <td>79.000000</td>\n",
       "    </tr>\n",
       "    <tr>\n",
       "      <th>max</th>\n",
       "      <td>100.800000</td>\n",
       "      <td>89.000000</td>\n",
       "    </tr>\n",
       "  </tbody>\n",
       "</table>\n",
       "</div>"
      ],
      "text/plain": [
       "       temperature  heart_rate\n",
       "count   130.000000  130.000000\n",
       "mean     98.249231   73.761538\n",
       "std       0.733183    7.062077\n",
       "min      96.300000   57.000000\n",
       "25%      97.800000   69.000000\n",
       "50%      98.300000   74.000000\n",
       "75%      98.700000   79.000000\n",
       "max     100.800000   89.000000"
      ]
     },
     "execution_count": 140,
     "metadata": {},
     "output_type": "execute_result"
    }
   ],
   "source": [
    "df.describe()"
   ]
  },
  {
   "cell_type": "code",
   "execution_count": 141,
   "metadata": {},
   "outputs": [
    {
     "data": {
      "text/plain": [
       "(130, 3)"
      ]
     },
     "execution_count": 141,
     "metadata": {},
     "output_type": "execute_result"
    }
   ],
   "source": [
    "df.shape"
   ]
  },
  {
   "cell_type": "markdown",
   "metadata": {},
   "source": [
    "# Question 1. \n",
    "## Is the distribution of the body temperature normal?\n",
    "\n",
    "Since comparing the histogram to the PDF can be different due to binning bias, it is better to compare the ecdf of the \n",
    "data to the theoretical normal ecdf by superimposing these two plots and see how much they overlap. As shown in the plot below, it is approximately normal despite the small offset in the 60% - 80% range of the CDF."
   ]
  },
  {
   "cell_type": "code",
   "execution_count": 142,
   "metadata": {
    "collapsed": true
   },
   "outputs": [],
   "source": [
    "#This is the ecdf function that was written from the data camp assignment from Chapter 8.1.\n",
    "def ecdf(data):\n",
    "    \"\"\"Compute ECDF for a one-dimensional array of measurements.\"\"\"\n",
    "\n",
    "    # Number of data points: n\n",
    "    n = len(data)\n",
    "\n",
    "    # x-data for the ECDF: x\n",
    "    x = np.sort(data)\n",
    "\n",
    "    # y-data for the ECDF: y\n",
    "    y = np.arange(1, n+1) / n\n",
    "\n",
    "    return x, y"
   ]
  },
  {
   "cell_type": "code",
   "execution_count": 143,
   "metadata": {},
   "outputs": [
    {
     "data": {
      "image/png": "[encoded data removed]",
      "text/plain": [
       "<matplotlib.figure.Figure at 0x11a9ee860>"
      ]
     },
     "metadata": {},
     "output_type": "display_data"
    }
   ],
   "source": [
    "#Computed the mean and the std to use as the parameters to generate the normal samples\n",
    "mean = np.mean(df.temperature)\n",
    "std = np.std(df.temperature)\n",
    "samples = np.random.normal(mean, std, size = 130)\n",
    "\n",
    "#call the ecdf function on the temperature series and the samples generate from above\n",
    "x, y = ecdf(df.temperature)\n",
    "x_theo, y_theo = ecdf(samples)\n",
    "\n",
    "#plot both the theoretical cdf and the df.temperature cdf\n",
    "_ = plt.plot(x_theo, y_theo)\n",
    "_ = plt.plot(x, y, marker = '.', linestyle='none')\n",
    "plt.xlabel('Body Temperature')\n",
    "plt.ylabel('CDF')\n",
    "plt.title('CDF of Body Temperature')\n",
    "sns.set()\n",
    "plt.show()"
   ]
  },
  {
   "cell_type": "markdown",
   "metadata": {},
   "source": []
  },
  {
   "cell_type": "markdown",
   "metadata": {},
   "source": [
    "# Question 2. \n",
    "## Is the sample size large? \n",
    "\n",
    "The benchmark sample size is n >= 30 for the Central Limit Theorem to apply. Since our sample size is n = 130, it is indeed large enough.\n",
    "\n",
    "## Are the observations independent?\n",
    "\n",
    "Since the observations of the dataset are based off of measurements on individuals in a population, the observations in this dataset are therefore independent."
   ]
  },
  {
   "cell_type": "markdown",
   "metadata": {},
   "source": []
  },
  {
   "cell_type": "markdown",
   "metadata": {},
   "source": [
    "# Question 3. \n",
    "## Is the true population mean really 98.6 degrees F?\n",
    "In order to answer this question, Hypothesis Testing will be performed. To begin, lets state the hypotheses. The null hypothesis will be that the true population mean is equal to 98.6 degrees F while the alternative hypothesis will be the true population mean is not equal to 98.6 degrees F. This will be a two-sided alternative hypothesis.\n",
    "\n",
    "$H_{o}$ : $\\mu$ = 98.6\n",
    "\n",
    "$H_{A}$ : $\\mu$ $\\ne$ 98.6\n",
    "\n",
    "In order to assess whether or not there is enough evidence to reject the null hypothesis, a significance level $\\alpha$ will need to be preset. For this example,\n",
    "$\\alpha$ = .05. If the computed p value from the hypothesis testing is determine to lower than the significance level $\\alpha$, then the null hypothesis will be rejected and the alternative hypothesis will be accepted. Otherwise, there is not enough evidence to reject the null hypothesis. \n",
    "\n",
    "\n",
    "### Would you use a one-sample or two-sample test? Why?\n",
    "A one-sample test should be used because the question asks to compare one set of data to a single number, the mean body temperature. \n",
    "\n",
    "### In this situation, is it appropriate to use the  t  or  z  statistic?\n",
    "In this case, it is more appropriate to use the t-score statistic because in order to use a z statistic, the standard deviation of the sampling distribution is needed as shown below. Since that value is unknown, the z statistic cannot be used. However, with a large enough sample size, the standard deviation of the sampling distribution can be computed using the standard deviation of the population divided by the square root of the sample. But since that value is also unknown, the t statistic will need to be used since an estimate can be used to estimate the unknown standard deviation. \n",
    "\n",
    "### Now try using the other test. How is the result be different? Why?\n",
    "The result were the same. Both test concluded that the null hypothesis should be rejected and that the alternative hypothesis should be accepted. This is the case because the z value and the t value are the same when $(n \\geq 30)$ and the standard deviation of the sampling distribution can be estimated by the sample standard deviation. When $(n \\leq 30)$, $\\frac{\\bar{x} - \\mu_{o}}{\\delta /\\sqrt{n} }$ will be t distributed."
   ]
  },
  {
   "cell_type": "markdown",
   "metadata": {},
   "source": []
  },
  {
   "cell_type": "markdown",
   "metadata": {},
   "source": [
    "## One Sample t test\n",
    "\n",
    "In order to use the t statistic to do a significance testing, the following three conditions will need to be met:\n",
    "   * Random: The sample is randomly sampled.\n",
    "   * Normal: The sampling distribution of the $\\bar{x}$ needs to be approximately normal or f the sample size is reasonably large $(n \\geq 30)$.\n",
    "   * Independent: observation from the dataset needs to be independent.\n",
    "   \n",
    "The three conditions are met as discussed below.\n",
    "   * Random: Assume the given dataset is randomly sampled.\n",
    "   * Normal: The sample size is n $\\geq 130$.\n",
    "   * Independent: Assuming that the population data is more than 1300, our sample size will not be more than 10% and therefore the condition is met.\n",
    "   \n",
    "t = $\\frac{\\bar{x} - \\mu_{o}}{\\delta /\\sqrt{n} }$\n",
    "\n",
    "As seen below, \n",
    "\n",
    "t = -5.475925202078116\n",
    "\n",
    "p value = 2.4106320415561276e-07\n",
    "\n",
    "Since the p value is below the significance level preset at .05, the null hypothesis will be rejected and the alternative hypothesis will be accepted."
   ]
  },
  {
   "cell_type": "code",
   "execution_count": 144,
   "metadata": {},
   "outputs": [
    {
     "data": {
      "text/plain": [
       "Ttest_1sampResult(statistic=-5.4548232923645195, pvalue=2.4106320415561276e-07)"
      ]
     },
     "execution_count": 144,
     "metadata": {},
     "output_type": "execute_result"
    }
   ],
   "source": [
    "true_mean = 98.6\n",
    "st.ttest_1samp(df.temperature, true_mean)"
   ]
  },
  {
   "cell_type": "markdown",
   "metadata": {},
   "source": []
  },
  {
   "cell_type": "markdown",
   "metadata": {},
   "source": [
    "## One Sample z test\n",
    "\n",
    "In order to use the z statistic, $n \\geq 30$. Since the sample size of this data is 130, the normal condition is met and the z value can be approximated with the sample standard deviation. If the sample size was not greater than 30, then $\\frac{\\bar{x} - \\mu_{o}}{\\delta /\\sqrt{n} }$ will be t distributed. Below shows the two equations used to determine the z value. The second one will be used as the standard deviation is estimated.\n",
    "\n",
    "z = $\\frac{\\bar{x} - \\mu_{o}}{\\sigma }$\n",
    "\n",
    "z = $\\frac{\\bar{x} - \\mu_{o}}{\\delta /\\sqrt{n} }$\n",
    "\n",
    "As seen below,\n",
    "\n",
    "z = -5.475925202078116\n",
    "\n",
    "zp_value = 4.3523151658821886e-08\n",
    "\n",
    "From using the z statistic, it can be seen that the null hypothesis will also be rejected and the alternative hypothesis will be accepted since the p value for the z statistic is lower than the significance level that was presetted in the beginning."
   ]
  },
  {
   "cell_type": "code",
   "execution_count": 145,
   "metadata": {},
   "outputs": [
    {
     "data": {
      "text/plain": [
       "(-5.475925202078116, 4.3523151658821886e-08)"
      ]
     },
     "execution_count": 145,
     "metadata": {},
     "output_type": "execute_result"
    }
   ],
   "source": [
    "sample_mean = np.mean(df.temperature)\n",
    "sample_std = np.std(df.temperature)\n",
    "z = (sample_mean - true_mean)*math.sqrt(130)/(sample_std)\n",
    "zp_value = st.norm.cdf(z)*2\n",
    "z, zp_value"
   ]
  },
  {
   "cell_type": "markdown",
   "metadata": {},
   "source": []
  },
  {
   "cell_type": "markdown",
   "metadata": {},
   "source": [
    "# 4. Draw a small sample of size 10 from the data and repeat both tests.\n",
    "\n",
    "## Which one is the correct one to use?\n",
    "The correct one here to use is the t statistic. When the sample size is small, the hypothesis test for a population mean will be t distributed.\n",
    "\n",
    "## What do you notice? What does this tell you about the difference in application of the  t  and  z  statistic?\n",
    "There is a slight difference in the p values. It is seen that the p value from the t test has a higher probability than the p value computed from the z test. This reinforces the fact that a t test should be used when a sample size is less than 10 because it requires more evidence to reject the null hypothesis using the t test than it does with the z test. Using the z test when the sample size is small can increase Type I error."
   ]
  },
  {
   "cell_type": "markdown",
   "metadata": {},
   "source": []
  },
  {
   "cell_type": "markdown",
   "metadata": {},
   "source": [
    "## One Sample t test with n = 10\n",
    "\n",
    "The t statistic test is repeated with the sample size at n = 10. The premise is the same as the t test above with the sample size changed. \n",
    "\n",
    "t = $\\frac{ \\bar{x} - \\mu_{o} }{\\delta /\\sqrt{n} }$\n",
    "\n",
    "As seen below, \n",
    "\n",
    "t = 0.49035745182334267\n",
    "\n",
    "p value = 0.63561347097563603\n",
    "\n",
    "Since the p value is greater than the significance value presetted above, there is not enough evidence to reject the null hypothesis."
   ]
  },
  {
   "cell_type": "code",
   "execution_count": 146,
   "metadata": {},
   "outputs": [
    {
     "data": {
      "text/plain": [
       "Ttest_1sampResult(statistic=-1.324453325330289, pvalue=0.21799787483008681)"
      ]
     },
     "execution_count": 146,
     "metadata": {},
     "output_type": "execute_result"
    }
   ],
   "source": [
    "bs = np.random.choice(df.temperature, size = 10)\n",
    "st.ttest_1samp(bs, true_mean)"
   ]
  },
  {
   "cell_type": "markdown",
   "metadata": {},
   "source": []
  },
  {
   "cell_type": "markdown",
   "metadata": {},
   "source": [
    "## One Sample z test with n = 10\n",
    "The z statistic test is repeated with the sample size at n = 10. The premise is the same as the z test above with just a sample size changed.\n",
    "\n",
    "z = $\\frac{\\bar{x} - \\mu_{o}}{\\sigma }$\n",
    "\n",
    "z = $\\frac{\\bar{x} - \\mu_{o}}{\\delta /\\sqrt{n} }$\n",
    "\n",
    "As seen below,\n",
    "\n",
    "z = -0.51688213846601638\n",
    "\n",
    "zp_value = 0.60523843693482549\n",
    "\n",
    "Since the zp_value is greater than the significance value presetted above, there is not enough evidence to reject the null hypothesis."
   ]
  },
  {
   "cell_type": "code",
   "execution_count": 147,
   "metadata": {},
   "outputs": [
    {
     "data": {
      "text/plain": [
       "(-1.3960963875425654, 0.16268547151935098)"
      ]
     },
     "execution_count": 147,
     "metadata": {},
     "output_type": "execute_result"
    }
   ],
   "source": [
    "sample_mean = np.mean(bs)\n",
    "sample_std = np.std(bs)\n",
    "z = (sample_mean - true_mean)*math.sqrt(10)/(sample_std)\n",
    "zp_value = st.norm.cdf(z)*2\n",
    "z, zp_value"
   ]
  },
  {
   "cell_type": "code",
   "execution_count": null,
   "metadata": {
    "collapsed": true
   },
   "outputs": [],
   "source": []
  },
  {
   "cell_type": "markdown",
   "metadata": {},
   "source": [
    "# Question 5. \n",
    "## At what temperature should we consider someone's temperature to be \"abnormal\"?\n",
    "Start by computing the margin of error and confidence interval.\n",
    "\n",
    "From the previous questions, the problem was done using a significance level of $\\alpha$ =.05. Due to this preset value, a 95% confidence interval will be computed. Since $n =130$ and is consider large, the t score or the z score are approximately equal, so it shouldnt matter which one is used. Once the 95% confidence interval is computed, anything outside this range should be consider abnormal since those observation points will be 2 standard deviations away from the sample mean. \n",
    "\n",
    "As seen below, the confidence interval is [98.12, 98.37] with a margin of error of 12%. This means that any observations < 98.12 or observations > 98.37 is consider abnormal."
   ]
  },
  {
   "cell_type": "code",
   "execution_count": 148,
   "metadata": {},
   "outputs": [
    {
     "data": {
      "text/plain": [
       "(98.113720963043122, 98.386279036956878)"
      ]
     },
     "execution_count": 148,
     "metadata": {},
     "output_type": "execute_result"
    }
   ],
   "source": [
    "stats.norm.interval(0.95, loc=sample_mean, scale=sample_std/math.sqrt(130))"
   ]
  },
  {
   "cell_type": "code",
   "execution_count": 149,
   "metadata": {},
   "outputs": [
    {
     "data": {
      "text/plain": [
       "0.13628154116217828"
      ]
     },
     "execution_count": 149,
     "metadata": {},
     "output_type": "execute_result"
    }
   ],
   "source": [
    "margin_of_error = 1.96*(sample_std)/math.sqrt(130)\n",
    "margin_of_error"
   ]
  },
  {
   "cell_type": "markdown",
   "metadata": {},
   "source": []
  },
  {
   "cell_type": "markdown",
   "metadata": {},
   "source": [
    "# Question 6. \n",
    "## Is there a significant difference between males and females in normal temperature?\n",
    "\n",
    "Hypothesis testing can be used here to answer the posed question. To begin, the null hypothesis and the alternative hypothesis are stated as follows. Let $x_{1}$ = mean male body temperature and $x_{2}$ = mean female body temperature.\n",
    "\n",
    "$H_{o}$ : $x_{1}$ = $x_{2}$\n",
    "\n",
    "$H_{A}$ : $x_{1}$ $\\neq$ $x_{2}$\n",
    "\n",
    "The test statistic for this hypothesis test can be the difference in mean where $x_{1}$ - $x_{2}$ $ = 0$. In this problem, the population standard deviation for both male and female population are not known. In addition, the standard deviations from the two random samples are not close. As a result, a t test will be used here with the following t score formula and degree of freedom formula shown below as an approximation. \n",
    "\n",
    "$S_{1} = \\frac{s_{1}^2}{n_{1}}$\n",
    "\n",
    "$S_{2} = \\frac{s_{2}^2}{n_{2}}$\n",
    "\n",
    "$T score$: $T$ = $\\frac{\\bar x_{1} - \\bar x_{2}} {\\sqrt{S_{1} + S_{2}}}$\n",
    "\n",
    "$a$ = $\\frac{S_{1}^2}{n_{1} - 1}$\n",
    "\n",
    "$b$ = $\\frac{S_{2}^2}{n_{2} - 1}$\n",
    "\n",
    "$Degree of Freedom:$ $v = \\frac{(S_{1} + S_{2})^2} {a+b}$  \n",
    "\n",
    "As seen below,\n",
    "\n",
    "|t| score = 2.3032202891940123\n",
    "\n",
    "Degree of Freedom = 127.51030083039093\n",
    "\n",
    "Using the t table to help approximate, the t score is in between 1.98 and 2.358, which corresponds to the .025 and .01 of the p value. As a result, since .01 < p < .025 and is lower than the significance value of .05, the null hypothesis of the male and female samples pose no difference is rejected. It can also be seen from the figure where the histogram of the male and the female are superimposed on each other. It is clearly shown that the female body temperature are higher than male.\n",
    "\n",
    "### What test did you use and why?\n",
    "As stated above, the t test will be used here since the standard deviations of the two population are not known and can only be approximated with the given formulas above.\n"
   ]
  },
  {
   "cell_type": "code",
   "execution_count": 150,
   "metadata": {},
   "outputs": [
    {
     "data": {
      "text/plain": [
       "((65, 3), (65, 3))"
      ]
     },
     "execution_count": 150,
     "metadata": {},
     "output_type": "execute_result"
    }
   ],
   "source": [
    "df_female = df[df.gender == 'F']\n",
    "df_male = df[df.gender == 'M']\n",
    "df_male.shape, df_female.shape"
   ]
  },
  {
   "cell_type": "code",
   "execution_count": 151,
   "metadata": {},
   "outputs": [
    {
     "data": {
      "text/html": [
       "<div>\n",
       "<style>\n",
       "    .dataframe thead tr:only-child th {\n",
       "        text-align: right;\n",
       "    }\n",
       "\n",
       "    .dataframe thead th {\n",
       "        text-align: left;\n",
       "    }\n",
       "\n",
       "    .dataframe tbody tr th {\n",
       "        vertical-align: top;\n",
       "    }\n",
       "</style>\n",
       "<table border=\"1\" class=\"dataframe\">\n",
       "  <thead>\n",
       "    <tr style=\"text-align: right;\">\n",
       "      <th></th>\n",
       "      <th>temperature</th>\n",
       "      <th>heart_rate</th>\n",
       "    </tr>\n",
       "  </thead>\n",
       "  <tbody>\n",
       "    <tr>\n",
       "      <th>count</th>\n",
       "      <td>65.000000</td>\n",
       "      <td>65.000000</td>\n",
       "    </tr>\n",
       "    <tr>\n",
       "      <th>mean</th>\n",
       "      <td>98.104615</td>\n",
       "      <td>73.369231</td>\n",
       "    </tr>\n",
       "    <tr>\n",
       "      <th>std</th>\n",
       "      <td>0.698756</td>\n",
       "      <td>5.875184</td>\n",
       "    </tr>\n",
       "    <tr>\n",
       "      <th>min</th>\n",
       "      <td>96.300000</td>\n",
       "      <td>58.000000</td>\n",
       "    </tr>\n",
       "    <tr>\n",
       "      <th>25%</th>\n",
       "      <td>97.600000</td>\n",
       "      <td>70.000000</td>\n",
       "    </tr>\n",
       "    <tr>\n",
       "      <th>50%</th>\n",
       "      <td>98.100000</td>\n",
       "      <td>73.000000</td>\n",
       "    </tr>\n",
       "    <tr>\n",
       "      <th>75%</th>\n",
       "      <td>98.600000</td>\n",
       "      <td>78.000000</td>\n",
       "    </tr>\n",
       "    <tr>\n",
       "      <th>max</th>\n",
       "      <td>99.500000</td>\n",
       "      <td>86.000000</td>\n",
       "    </tr>\n",
       "  </tbody>\n",
       "</table>\n",
       "</div>"
      ],
      "text/plain": [
       "       temperature  heart_rate\n",
       "count    65.000000   65.000000\n",
       "mean     98.104615   73.369231\n",
       "std       0.698756    5.875184\n",
       "min      96.300000   58.000000\n",
       "25%      97.600000   70.000000\n",
       "50%      98.100000   73.000000\n",
       "75%      98.600000   78.000000\n",
       "max      99.500000   86.000000"
      ]
     },
     "execution_count": 151,
     "metadata": {},
     "output_type": "execute_result"
    }
   ],
   "source": [
    "df_male.describe()"
   ]
  },
  {
   "cell_type": "code",
   "execution_count": 152,
   "metadata": {},
   "outputs": [
    {
     "data": {
      "text/html": [
       "<div>\n",
       "<style>\n",
       "    .dataframe thead tr:only-child th {\n",
       "        text-align: right;\n",
       "    }\n",
       "\n",
       "    .dataframe thead th {\n",
       "        text-align: left;\n",
       "    }\n",
       "\n",
       "    .dataframe tbody tr th {\n",
       "        vertical-align: top;\n",
       "    }\n",
       "</style>\n",
       "<table border=\"1\" class=\"dataframe\">\n",
       "  <thead>\n",
       "    <tr style=\"text-align: right;\">\n",
       "      <th></th>\n",
       "      <th>temperature</th>\n",
       "      <th>heart_rate</th>\n",
       "    </tr>\n",
       "  </thead>\n",
       "  <tbody>\n",
       "    <tr>\n",
       "      <th>count</th>\n",
       "      <td>65.000000</td>\n",
       "      <td>65.000000</td>\n",
       "    </tr>\n",
       "    <tr>\n",
       "      <th>mean</th>\n",
       "      <td>98.393846</td>\n",
       "      <td>74.153846</td>\n",
       "    </tr>\n",
       "    <tr>\n",
       "      <th>std</th>\n",
       "      <td>0.743488</td>\n",
       "      <td>8.105227</td>\n",
       "    </tr>\n",
       "    <tr>\n",
       "      <th>min</th>\n",
       "      <td>96.400000</td>\n",
       "      <td>57.000000</td>\n",
       "    </tr>\n",
       "    <tr>\n",
       "      <th>25%</th>\n",
       "      <td>98.000000</td>\n",
       "      <td>68.000000</td>\n",
       "    </tr>\n",
       "    <tr>\n",
       "      <th>50%</th>\n",
       "      <td>98.400000</td>\n",
       "      <td>76.000000</td>\n",
       "    </tr>\n",
       "    <tr>\n",
       "      <th>75%</th>\n",
       "      <td>98.800000</td>\n",
       "      <td>80.000000</td>\n",
       "    </tr>\n",
       "    <tr>\n",
       "      <th>max</th>\n",
       "      <td>100.800000</td>\n",
       "      <td>89.000000</td>\n",
       "    </tr>\n",
       "  </tbody>\n",
       "</table>\n",
       "</div>"
      ],
      "text/plain": [
       "       temperature  heart_rate\n",
       "count    65.000000   65.000000\n",
       "mean     98.393846   74.153846\n",
       "std       0.743488    8.105227\n",
       "min      96.400000   57.000000\n",
       "25%      98.000000   68.000000\n",
       "50%      98.400000   76.000000\n",
       "75%      98.800000   80.000000\n",
       "max     100.800000   89.000000"
      ]
     },
     "execution_count": 152,
     "metadata": {},
     "output_type": "execute_result"
    }
   ],
   "source": [
    "df_female.describe()"
   ]
  },
  {
   "cell_type": "code",
   "execution_count": 153,
   "metadata": {},
   "outputs": [
    {
     "data": {
      "image/png": "[encoded data removed]",
      "text/plain": [
       "<matplotlib.figure.Figure at 0x11ac3dbe0>"
      ]
     },
     "metadata": {},
     "output_type": "display_data"
    }
   ],
   "source": [
    "p1 = sns.distplot(df_female.temperature, color='red', label='Female')\n",
    "p2 = sns.distplot(df_male.temperature, color='blue', label='Male')\n",
    "plt.title('Male & Female Temperature')\n",
    "plt.legend()\n",
    "plt.show()"
   ]
  },
  {
   "cell_type": "code",
   "execution_count": 156,
   "metadata": {},
   "outputs": [
    {
     "data": {
      "text/plain": [
       "(98.1046153846154, 98.39384615384613)"
      ]
     },
     "execution_count": 156,
     "metadata": {},
     "output_type": "execute_result"
    }
   ],
   "source": [
    "m_mean = np.mean(df_male.temperature)\n",
    "m_std = np.std(df_male.temperature)\n",
    "f_mean = np.mean(df_female.temperature)\n",
    "f_std = np.std(df_female.temperature)\n",
    "m_mean, f_mean"
   ]
  },
  {
   "cell_type": "code",
   "execution_count": 155,
   "metadata": {},
   "outputs": [
    {
     "data": {
      "text/plain": [
       "(-2.3032202891940123, 127.51030083039093)"
      ]
     },
     "execution_count": 155,
     "metadata": {},
     "output_type": "execute_result"
    }
   ],
   "source": [
    "x = (m_std**2 + f_std**2) /65\n",
    "t = (m_mean - f_mean)/ math.sqrt(x)\n",
    "v = x**2 / ( ( (m_std**2/65)**2 /64) + ( (f_std**2/65)**2/ 64) )\n",
    "t, v"
   ]
  },
  {
   "cell_type": "markdown",
   "metadata": {},
   "source": []
  },
  {
   "cell_type": "markdown",
   "metadata": {},
   "source": [
    "## Conclusion\n",
    "\n",
    "As a result, after performing hypothesis testing on the mean of the population with an unknown standard deviation, it can be concluded with high confidence that the true mean body temperature isnt 98.6. It can be stated that with 95% confidence level, the true mean lies somewhere in between [98.12, 98.38] confidence interval with a margin of error of 13%. Also, when the sample was split into male and female, it can be seen that the female body temperature contained higher body temperatures than male."
   ]
  },
  {
   "cell_type": "code",
   "execution_count": null,
   "metadata": {
    "collapsed": true
   },
   "outputs": [],
   "source": []
  }
 ],
 "metadata": {
  "kernelspec": {
   "display_name": "Python 3",
   "language": "python",
   "name": "python3"
  },
  "language_info": {
   "codemirror_mode": {
    "name": "ipython",
    "version": 3
   },
   "file_extension": ".py",
   "mimetype": "text/x-python",
   "name": "python",
   "nbconvert_exporter": "python",
   "pygments_lexer": "ipython3",
   "version": "3.6.1"
  }
 },
 "nbformat": 4,
 "nbformat_minor": 1
}
